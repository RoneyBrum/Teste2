{
  "nbformat": 4,
  "nbformat_minor": 0,
  "metadata": {
    "colab": {
      "name": "Trilha 1: Tarefa.ipynb",
      "provenance": [],
      "collapsed_sections": [],
      "toc_visible": true,
      "mount_file_id": "1IHH9Gt_AWXn3c2osWRQHdDIsGi9bnAWV",
      "authorship_tag": "ABX9TyOjpRpLvxrcequNrBRKz9vr",
      "include_colab_link": true
    },
    "kernelspec": {
      "name": "python3",
      "display_name": "Python 3"
    },
    "language_info": {
      "name": "python"
    }
  },
  "cells": [
    {
      "cell_type": "markdown",
      "metadata": {
        "id": "view-in-github",
        "colab_type": "text"
      },
      "source": [
        "<a href=\"https://colab.research.google.com/github/RoneyBrum/Teste2/blob/main/Trilha_1_Tarefa.ipynb\" target=\"_parent\"><img src=\"https://colab.research.google.com/assets/colab-badge.svg\" alt=\"Open In Colab\"/></a>"
      ]
    },
    {
      "cell_type": "markdown",
      "source": [
        "# Texto Escolhido: \n",
        "\n",
        "## Resumo do Livro: O Monge e o Executivo de James C. Hunter"
      ],
      "metadata": {
        "id": "UtIDFYxBulCT"
      }
    },
    {
      "cell_type": "markdown",
      "source": [
        "Lançado em 1989, a obra do autor James C. Hunter, “O Monge e o Executivo”, passa um ensinamento sobre liderança aos leitores.\n",
        "Ao longo da leitura, é possível refletir sobre como se tornar uma pessoa melhor, tanto no ambiente de trabalho, como na família e na sociedade.\n",
        "A proposta do escritor James C. Hunter é fazer com que o leitor saia transformado e  abra novos horizontes diante dos ensinamentos e princípios fundamentais dos verdadeiros líderes.\n",
        "Trata-se de uma história baseada na importância de se espalhar o amor, a paciência e outros conceitos de empatia e acolhimento com o próximo.\n",
        "Isso serve tanto para os funcionários da equipe de trabalho como para a família, amigos e até os desconhecidos.\n",
        "No livro, é contada a história de John Daily, um empresário de sucesso, que passa o período de uma semana em um retiro para ouvir as lições sábias que um monge beneditino tem a passar. Esse monge, antes de ser quem é, foi um líder de sucesso.\n",
        "Daily tem uma vida considerada perfeita e desejada por muitas pessoas. É casado, tem dois filhos e ainda é técnico voluntário de um time de beisebol norte-americano.\n",
        "Porém, a reviravolta acontece após um movimento sindical mexer com os ânimos dos funcionários de sua empresa.\n",
        "Esse acontecimento fez com que os conceitos de liderança do homem de negócios  fossem repensados. Além disso, os ânimos na casa de John também acabam sendo afetados. A esposa do empresário começou a fazer reclamações constantemente e ainda John precisava lidar com a insubordinação dos filhos.\n",
        "Esses acontecimentos foram suficientes para que o personagem principal percebesse que sua vida saiu de controle e resolvesse fazer escolhas que antes não havia feito para que tudo voltasse ao total controle.\n",
        "A ida ao retiro espiritual e o encontro com o monge\n",
        "Aconselhado pela esposa a procurar um pastor da igreja para pedir sugestão de como agir, John Daily segue o conselho e vai para um retiro no mosteiro João da Cruz, na direção do lago Michigan.\n",
        "Porém, durante a viagem, o executivo começa a ter os mesmo sonhos de forma recorrentes, onde sempre aparece uma mensagem: “Ache Simeão e ouça-o”. Ele então começa sua busca para encontrar o significado do sonho.\n",
        "Porém, mesmo com muitas dúvidas e questionamentos, o executivo vai ao retiro com o intuito de passar uma semana no local e fica entusiasmado, após ser recebido pelo padre Peter, e saber que o lendário Leonard Hoffman estaria presente no mosteiro.\n",
        "Leonard Hoffman foi um executivo brilhante e considerado um dos maiores especialistas em liderança dos Estados Unidos, mas acabou abandonando tudo para viver uma vida de monge.\n",
        "Porém, John se surpreende após perceber que Hoffman trocou o seu nome para Simeão e que participaria de um curso ministrado por ele. O nome do especialista é o mesmo que aparecia no sonho de John.\n",
        "Logo no início do curso, o ex-executivo já traz muitos ensinamentos sobre autoridade e poder, liderança, como lidar com algumas mudanças e quais os motivos para que a autoridade seja inserida no processo de desenvolvimento das habilidades da equipe.\n",
        "Hoffman ainda se aprofundou em conceitos como bondade, paciência, amor, respeito e deu o papel aos alunos para que fizessem escolhas que fossem mais conscientes, mas que também poderiam ser bem mais difíceis.\n",
        "Por isso, o monge colocou que é necessário pensar no bem-estar das pessoas à sua volta, pois essa atitude atrairia a motivação das pessoas.\n",
        "Como consequência, os frutos seriam melhores, tanto para a empresa como para um ambiente saudável.\n",
        "Ensinamentos de liderança que John Daily recebeu de Simeão\n",
        "Durante o curso, Len Hoffman mostra que muitas vezes os chefes tomam algumas atitudes de liderança que devem ser feitas e não relacionadas com as quais estão, de fato, sentindo.\n",
        "Um dos exemplos é agir com amor até mesmo diante de pessoas com as quais não são amigáveis em seu dia a dia.\n",
        "É preciso enxergar ainda o cliente ou funcionário como aliado e não como inimigo. Com essa prática, os resultados de satisfação serão maiores.\n",
        "Com isso, essa atitude faz com que se crie um ambiente mais respeitoso e saudável.\n",
        "Além disso, tem grande chance de fazer com que as pessoas que convivem nesse espaço se desenvolvam de maneira mais efetiva e estejam de fato mais dispostas a darem o seu melhor.\n",
        "Simeão fez também uma reflexão sobre de que maneira o pensamento pode ter influência no comportamento das pessoas.\n",
        "Além disso, sugeriu que o amor deve ser vindo das duas partes, tanto do chefe como do funcionário, para que haja de fato uma transformação.\n",
        "O monge, em sua aula no mosteiro, falou o quanto o esforço de um líder direcionado por um período de tempo, pode trazer sentimentos positivos, como dedicação e amor ao trabalho.\n",
        "Com isso, todo o amor doado faz com que os seres humanos que estão recebendo esse sentimento tenham ações que também exalam amor como troca.\n",
        "Além disso, outro conceito mencionado por Simeão é de recompensa quando se chega no final das etapas.\n",
        "Outro exemplo é a satisfação ao ver que o resultado foi positivo e que a equipe conseguiu contornar algum tipo de obstáculo na empresa com um espírito de respeito.\n",
        "Essa atitude pode ser valorizada pelo chefe, que deve incentivar a equipe. Como consequência, as pessoas terão mais sucesso em suas funções e contribuirão para um ambiente mais amigável e produtivo.\n",
        "Após ouvir por um período tudo aquilo que o ex-executivo tinha para passar, as lições que John tirou da aula foi que o líder ideal é aquela pessoa que sabe melhor delegar, incentivar e usar mecanismos para que o funcionário dê sempre o seu melhor por vontade própria, ao invés de dar apenas ordens à equipe.\n",
        "Contribuir com o assédio moral e falta de valorização não vai fazer com que o funcionário tenha apreciação pelo que faz. Muito pelo contrário, isso também vale para qualquer tipo de convivência.\n",
        "Outro ponto positivo em usar a posição de liderança da melhor maneira no ambiente de trabalho é que a pessoa que está recebendo passa a concentrar suas energias em favor do coletivo e da equipe.\n",
        "Com isso, no final do livro, após ouvir todos aqueles ensinamentos do monge, o personagem principal teve sua essência e percepção do que é ser um líder transformado.\n",
        "Além disso, o executivo consegue aprender no mosteiro que o papel da liderança é muito importante e que, com isso, os líderes têm uma função fundamental no desenvolvimento da equipe de trabalho.\n",
        "O executivo também teve os horizontes abertos sobre como lidar com a família e sociedade, além de ter aprendido de fato o conceito de liderança.\n",
        "\n"
      ],
      "metadata": {
        "id": "77FaqoSAu1lP"
      }
    },
    {
      "cell_type": "markdown",
      "source": [
        "**Optou-se pela utilização deste resumo, considerando o apreço pessoal com o livro. A leitura já foi realizada há algum tempo e essa foi a oportunidade de ter, novamente, um breve contato com o livro. **"
      ],
      "metadata": {
        "id": "x_8sWr3Gu9UC"
      }
    },
    {
      "cell_type": "markdown",
      "source": [
        "## Aquisição dos Dados"
      ],
      "metadata": {
        "id": "b9nhMgDxiGCt"
      }
    },
    {
      "cell_type": "code",
      "source": [
        "f = open(\"/content/drive/Othercomputers/Note Roney/Desktop/POS GRAD/1 - MODULO/Paradigmas de Linguagens de Programação para Ciência de Dados/Trilha 1 Introdução à programação Python/Resumo Livro o Monge e o Executivo.txt\", \"r\")"
      ],
      "metadata": {
        "id": "V2Cd-DlJga1G"
      },
      "execution_count": null,
      "outputs": []
    },
    {
      "cell_type": "code",
      "source": [
        "texto = []\n",
        "\n",
        "for linha in f:\n",
        "  texto.append(linha)\n",
        "\n",
        "for i in range(len(texto)):\n",
        "    texto[i] = texto[i].lower() # para unicidade\n",
        "    texto[i] = texto[i].replace('\\n','')# substituições\n",
        "    texto[i] = texto[i].replace('.','')\n",
        "    texto[i] = texto[i].replace(',','')\n",
        "    texto[i] = texto[i].replace('(','')\n",
        "    texto[i] = texto[i].replace(')','')\n",
        "    texto[i] = texto[i].replace('?','')\n",
        "    texto[i] = texto[i].replace('\\'','')"
      ],
      "metadata": {
        "id": "FF4Fo9pohyff"
      },
      "execution_count": null,
      "outputs": []
    },
    {
      "cell_type": "markdown",
      "source": [
        "# Construção do Dicionário"
      ],
      "metadata": {
        "id": "sujK8ZgLiORy"
      }
    },
    {
      "cell_type": "code",
      "source": [
        "dicionario = {}                             # criação de um dicionário vazio\n",
        "\n",
        "for linha in texto:\n",
        "\n",
        "  linha = linha.lower()                   # converte para lower (minúsculo)\n",
        "  palavras = linha.split()                # separa cada palavra\n",
        "#  print(palavras)                        # visualização (em lista) de cada palavra por linha\n",
        "  \n",
        "  for palavra in palavras:                # para cada palavra em palavras\n",
        "    if palavra not in dicionario.keys():  # se palavra não está no dicionário \n",
        "      dicionario[palavra] = 1              # acrescenta a palavra com o valor 1\n",
        "    else:                                 # se a entrada já existe \n",
        "      dicionario[palavra] += 1             # apenas soma 1 ao valor já existente\n",
        "\n",
        "print(dicionario) \n"
      ],
      "metadata": {
        "colab": {
          "base_uri": "https://localhost:8080/"
        },
        "id": "7Vwi2VR0iMEd",
        "outputId": "890d2177-20e9-41c7-dc37-0be0312360db"
      },
      "execution_count": null,
      "outputs": [
        {
          "output_type": "stream",
          "name": "stdout",
          "text": [
            "{'lançado': 1, 'em': 9, '1989': 1, 'a': 26, 'obra': 1, 'do': 14, 'autor': 1, 'james': 2, 'c': 2, 'hunter': 2, '“o': 1, 'monge': 8, 'e': 36, 'o': 41, 'executivo”': 1, 'passa': 3, 'um': 21, 'ensinamento': 1, 'sobre': 5, 'liderança': 9, 'aos': 2, 'leitores': 1, 'ao': 7, 'longo': 1, 'da': 10, 'leitura': 1, 'é': 16, 'possível': 1, 'refletir': 1, 'como': 15, 'se': 7, 'tornar': 1, 'uma': 10, 'pessoa': 3, 'melhor': 5, 'tanto': 4, 'no': 16, 'ambiente': 5, 'de': 49, 'trabalho': 5, 'na': 6, 'família': 3, 'sociedade': 2, 'proposta': 1, 'escritor': 1, 'fazer': 5, 'com': 24, 'que': 44, 'leitor': 1, 'saia': 1, 'transformado': 2, 'abra': 1, 'novos': 1, 'horizontes': 2, 'diante': 2, 'dos': 7, 'ensinamentos': 4, 'princípios': 1, 'fundamentais': 1, 'verdadeiros': 1, 'líderes': 2, 'trata-se': 1, 'história': 2, 'baseada': 1, 'importância': 1, 'espalhar': 1, 'amor': 7, 'paciência': 2, 'outros': 1, 'conceitos': 3, 'empatia': 1, 'acolhimento': 1, 'próximo': 1, 'isso': 7, 'serve': 1, 'para': 19, 'os': 13, 'funcionários': 2, 'equipe': 7, 'amigos': 1, 'até': 2, 'desconhecidos': 1, 'livro': 2, 'contada': 1, 'john': 8, 'daily': 4, 'empresário': 2, 'sucesso': 3, 'período': 3, 'semana': 2, 'retiro': 4, 'ouvir': 3, 'as': 6, 'lições': 2, 'sábias': 1, 'beneditino': 1, 'tem': 4, 'passar': 3, 'esse': 3, 'antes': 2, 'ser': 7, 'quem': 1, 'foi': 4, 'líder': 4, 'vida': 3, 'considerada': 1, 'perfeita': 1, 'desejada': 1, 'por': 7, 'muitas': 3, 'pessoas': 7, 'casado': 1, 'dois': 1, 'filhos': 2, 'ainda': 4, 'técnico': 1, 'voluntário': 1, 'time': 1, 'beisebol': 1, 'norte-americano': 1, 'porém': 4, 'reviravolta': 1, 'acontece': 1, 'após': 5, 'movimento': 1, 'sindical': 1, 'mexer': 1, 'ânimos': 2, 'sua': 6, 'empresa': 3, 'acontecimento': 1, 'fez': 2, 'homem': 1, 'negócios': 1, 'fossem': 2, 'repensados': 1, 'além': 6, 'disso': 5, 'casa': 1, 'também': 6, 'acabam': 1, 'sendo': 1, 'afetados': 1, 'esposa': 2, 'começou': 1, 'reclamações': 1, 'constantemente': 1, 'precisava': 1, 'lidar': 3, 'insubordinação': 1, 'esses': 1, 'acontecimentos': 1, 'foram': 1, 'suficientes': 1, 'personagem': 2, 'principal': 2, 'percebesse': 1, 'saiu': 1, 'controle': 2, 'resolvesse': 1, 'escolhas': 2, 'não': 5, 'havia': 1, 'feito': 1, 'tudo': 3, 'voltasse': 1, 'total': 1, 'ida': 1, 'espiritual': 1, 'encontro': 1, 'aconselhado': 1, 'pela': 1, 'procurar': 1, 'pastor': 1, 'igreja': 1, 'pedir': 1, 'sugestão': 1, 'agir': 2, 'segue': 1, 'conselho': 1, 'vai': 3, 'mosteiro': 4, 'joão': 1, 'cruz': 1, 'direção': 1, 'lago': 1, 'michigan': 1, 'durante': 2, 'viagem': 1, 'executivo': 5, 'começa': 2, 'ter': 3, 'mesmo': 4, 'sonhos': 1, 'forma': 1, 'recorrentes': 1, 'onde': 1, 'sempre': 2, 'aparece': 1, 'mensagem:': 1, '“ache': 1, 'simeão': 5, 'ouça-o”': 1, 'ele': 2, 'então': 1, 'busca': 1, 'encontrar': 1, 'significado': 1, 'sonho': 2, 'dúvidas': 1, 'questionamentos': 1, 'intuito': 1, 'local': 1, 'fica': 1, 'entusiasmado': 1, 'recebido': 1, 'pelo': 4, 'padre': 1, 'peter': 1, 'saber': 1, 'lendário': 1, 'leonard': 2, 'hoffman': 5, 'estaria': 1, 'presente': 1, 'brilhante': 1, 'considerado': 1, 'maiores': 2, 'especialistas': 1, 'estados': 1, 'unidos': 1, 'mas': 2, 'acabou': 1, 'abandonando': 1, 'viver': 1, 'surpreende': 1, 'perceber': 1, 'trocou': 1, 'seu': 4, 'nome': 2, 'participaria': 1, 'curso': 3, 'ministrado': 1, 'especialista': 1, 'aparecia': 1, 'logo': 1, 'início': 1, 'ex-executivo': 2, 'já': 1, 'traz': 1, 'muitos': 1, 'autoridade': 2, 'poder': 1, 'algumas': 2, 'mudanças': 1, 'quais': 3, 'motivos': 1, 'seja': 1, 'inserida': 1, 'processo': 1, 'desenvolvimento': 2, 'das': 6, 'habilidades': 1, 'aprofundou': 1, 'bondade': 1, 'respeito': 2, 'deu': 1, 'papel': 2, 'alunos': 1, 'fizessem': 1, 'mais': 7, 'conscientes': 1, 'poderiam': 1, 'bem': 1, 'difíceis': 1, 'colocou': 1, 'necessário': 1, 'pensar': 1, 'bem-estar': 1, 'à': 2, 'volta': 1, 'pois': 1, 'essa': 4, 'atitude': 3, 'atrairia': 1, 'motivação': 1, 'consequência': 2, 'frutos': 1, 'seriam': 1, 'melhores': 1, 'saudável': 2, 'recebeu': 1, 'len': 1, 'mostra': 1, 'vezes': 1, 'chefes': 1, 'tomam': 1, 'atitudes': 1, 'devem': 1, 'feitas': 1, 'relacionadas': 1, 'estão': 2, 'fato': 4, 'sentindo': 1, 'exemplos': 1, 'são': 1, 'amigáveis': 1, 'dia': 2, 'preciso': 1, 'enxergar': 1, 'cliente': 1, 'ou': 1, 'funcionário': 4, 'aliado': 1, 'inimigo': 1, 'prática': 1, 'resultados': 1, 'satisfação': 2, 'serão': 1, 'faz': 3, 'crie': 1, 'respeitoso': 1, 'grande': 1, 'chance': 1, 'convivem': 1, 'nesse': 1, 'espaço': 1, 'desenvolvam': 1, 'maneira': 3, 'efetiva': 1, 'estejam': 1, 'dispostas': 1, 'darem': 1, 'reflexão': 1, 'pensamento': 1, 'pode': 3, 'influência': 1, 'comportamento': 1, 'sugeriu': 1, 'deve': 2, 'vindo': 1, 'duas': 1, 'partes': 1, 'chefe': 2, 'haja': 1, 'transformação': 1, 'aula': 2, 'falou': 1, 'quanto': 1, 'esforço': 1, 'direcionado': 1, 'tempo': 1, 'trazer': 1, 'sentimentos': 1, 'positivos': 1, 'dedicação': 1, 'todo': 1, 'doado': 1, 'seres': 1, 'humanos': 1, 'recebendo': 2, 'sentimento': 1, 'tenham': 1, 'ações': 1, 'exalam': 1, 'troca': 1, 'outro': 3, 'conceito': 2, 'mencionado': 1, 'recompensa': 1, 'quando': 1, 'chega': 1, 'final': 2, 'etapas': 1, 'exemplo': 1, 'ver': 1, 'resultado': 1, 'positivo': 2, 'conseguiu': 1, 'contornar': 1, 'algum': 1, 'tipo': 2, 'obstáculo': 1, 'espírito': 1, 'valorizada': 1, 'incentivar': 2, 'terão': 1, 'suas': 2, 'funções': 1, 'contribuirão': 1, 'amigável': 1, 'produtivo': 1, 'aquilo': 1, 'tinha': 1, 'tirou': 1, 'ideal': 1, 'aquela': 1, 'sabe': 1, 'delegar': 1, 'usar': 2, 'mecanismos': 1, 'dê': 1, 'vontade': 1, 'própria': 1, 'invés': 1, 'dar': 1, 'apenas': 1, 'ordens': 1, 'contribuir': 1, 'assédio': 1, 'moral': 1, 'falta': 1, 'valorização': 1, 'tenha': 1, 'apreciação': 1, 'muito': 2, 'contrário': 1, 'vale': 1, 'qualquer': 1, 'convivência': 1, 'ponto': 1, 'posição': 1, 'está': 1, 'concentrar': 1, 'energias': 1, 'favor': 1, 'coletivo': 1, 'todos': 1, 'aqueles': 1, 'teve': 2, 'essência': 1, 'percepção': 1, 'consegue': 1, 'aprender': 1, 'importante': 1, 'têm': 1, 'função': 1, 'fundamental': 1, 'abertos': 1, 'aprendido': 1}\n"
          ]
        }
      ]
    },
    {
      "cell_type": "markdown",
      "source": [
        "# Exibição dos Resultados\n"
      ],
      "metadata": {
        "id": "b1ouzGH8k6bc"
      }
    },
    {
      "cell_type": "code",
      "source": [
        "import pandas as pd\n",
        "import seaborn as sns\n",
        "import matplotlib as mpl\n",
        "import matplotlib.pyplot as plt\n",
        "\n",
        "df = pd.DataFrame(dicionario.items(),  columns=['palavras', 'count']).sort_values('count',ascending=False)\n",
        "df = df[df['count'] > 4] # somente termos com mais de 4 ocorrências\n",
        "# df = df.iloc[ np.int(len(df)/2) - 10 : np.int(len(df)/2) + 10 ] # para livros ou textos com muitos termos limita a um número mínimo de termos\n",
        "\n",
        "plt.figure(figsize=(16,12))\n",
        "mpl.style.use(['seaborn'])\n",
        "sns.barplot(x=df.palavras,y=df['count'])\n",
        "plt.xticks(rotation=90) \n",
        "\n",
        "plt.show()"
      ],
      "metadata": {
        "colab": {
          "base_uri": "https://localhost:8080/",
          "height": 747
        },
        "id": "j_-C-jDfk8Tq",
        "outputId": "267a886a-e472-4781-c15d-15fb696e7769"
      },
      "execution_count": null,
      "outputs": [
        {
          "output_type": "display_data",
          "data": {
            "text/plain": [
              "<Figure size 1152x864 with 1 Axes>"
            ],
            "image/png": "[encoded data removed]"
          },
          "metadata": {}
        }
      ]
    },
    {
      "cell_type": "code",
      "source": [
        "len(list(df[\"count\"]))"
      ],
      "metadata": {
        "colab": {
          "base_uri": "https://localhost:8080/"
        },
        "id": "cBxW1IlDl5Ps",
        "outputId": "c21248c5-c7fd-4141-909f-45381127a048"
      },
      "execution_count": null,
      "outputs": [
        {
          "output_type": "execute_result",
          "data": {
            "text/plain": [
              "41"
            ]
          },
          "metadata": {},
          "execution_count": 66
        }
      ]
    },
    {
      "cell_type": "markdown",
      "source": [
        "**Análise do Resultado: **\n",
        "\n",
        "Conforme resultados obtidos, constatou-se a ratificação da lei de Zipf para o documento selecionado. \n",
        "\n",
        "Além daquelas palavras que se repetiram menos do que 5 vezes, são apenas 41 palavras distintas. "
      ],
      "metadata": {
        "id": "HCEP7WrZwLiW"
      }
    }
  ]
}